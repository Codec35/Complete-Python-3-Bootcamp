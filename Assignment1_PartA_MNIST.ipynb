{
  "nbformat": 4,
  "nbformat_minor": 0,
  "metadata": {
    "colab": {
      "name": "Assignment1_PartA_MNIST.ipynb",
      "provenance": [],
      "collapsed_sections": [
        "jr9krsfrIocv",
        "-4i0RWp9IyXb",
        "9gemNNjz63uB",
        "x755trOwI8al"
      ],
      "machine_shape": "hm",
      "authorship_tag": "ABX9TyNJN0lZZfHoSFh3GhvaT4x+",
      "include_colab_link": true
    },
    "kernelspec": {
      "name": "python3",
      "display_name": "Python 3"
    },
    "accelerator": "GPU"
  },
  "cells": [
    {
      "cell_type": "markdown",
      "metadata": {
        "id": "view-in-github",
        "colab_type": "text"
      },
      "source": [
        "<a href=\"https://colab.research.google.com/github/Codec35/Complete-Python-3-Bootcamp/blob/master/Assignment1_PartA_MNIST.ipynb\" target=\"_parent\"><img src=\"https://colab.research.google.com/assets/colab-badge.svg\" alt=\"Open In Colab\"/></a>"
      ]
    },
    {
      "cell_type": "markdown",
      "metadata": {
        "id": "lhdowRkUTuo5",
        "colab_type": "text"
      },
      "source": [
        "# **Deep Learning 884**\n",
        "# **Assignment 1 : Part A**\n",
        "\n",
        "# Bannister Leonard Mwaanga\n",
        "\n",
        "Introduction\n",
        "This assignment will introduce and develop fundamental concepts behind convolutional neural networks using Keras with Tensorflow backend. Part-A uses the MNIST dataset.\n",
        "\n",
        "The code was developed in Colab run with High RAM GPU 3ms/step.\n",
        "\n",
        "Scope of Work\n",
        "The work is organized and numbered as follow:\n",
        "\n",
        "1.   Initialization - downloading necessary \n",
        "libraries and modules\n",
        "\n",
        "2.   Data loading and normalizing\n",
        "\n",
        "3.   Baseline model - create, train and evaluate baseline model\n",
        "\n",
        "4.   My Model - create own model, train and evaluate model\n",
        "\n",
        "5.   Summary of results - compare results\n",
        "\n"
      ]
    },
    {
      "cell_type": "markdown",
      "metadata": {
        "id": "jr9krsfrIocv",
        "colab_type": "text"
      },
      "source": [
        "## 1. Initialization"
      ]
    },
    {
      "cell_type": "code",
      "metadata": {
        "id": "ntlN4n0RKmrX",
        "colab_type": "code",
        "colab": {}
      },
      "source": [
        "#Import libraries and modules\n",
        "from __future__ import print_function\n",
        "import keras\n",
        "import tensorflow as tf\n",
        "from keras import backend as K\n",
        "from keras.datasets import mnist\n",
        "from keras.models import Sequential\n",
        "from matplotlib import pyplot as plt\n",
        "from keras.layers import Conv2D, MaxPooling2D\n",
        "from keras.callbacks import ReduceLROnPlateau, LearningRateScheduler\n",
        "from tensorflow.keras.preprocessing.image import ImageDataGenerator\n",
        "from keras.layers import Dense, Dropout, Flatten, BatchNormalization\n"
      ],
      "execution_count": null,
      "outputs": []
    },
    {
      "cell_type": "code",
      "metadata": {
        "id": "LSu4r498K1Yt",
        "colab_type": "code",
        "colab": {}
      },
      "source": [
        "#1.1 Define global variables\n",
        "batch_size = 32\n",
        "num_classes = 10\n",
        "epochs = 32"
      ],
      "execution_count": null,
      "outputs": []
    },
    {
      "cell_type": "markdown",
      "metadata": {
        "id": "-4i0RWp9IyXb",
        "colab_type": "text"
      },
      "source": [
        "## 2. Loading Dataset"
      ]
    },
    {
      "cell_type": "code",
      "metadata": {
        "id": "3n4ddUkqK7tN",
        "colab_type": "code",
        "colab": {
          "base_uri": "https://localhost:8080/",
          "height": 68
        },
        "outputId": "0e64f578-cdd8-4b4d-f870-3c0127d38df5"
      },
      "source": [
        "#2.1 Input image dimensions\n",
        "img_rows, img_cols = 28, 28\n",
        "\n",
        "#2.2 Load and split\n",
        "(x_train, y_train), (x_test, y_test) = mnist.load_data()\n",
        "\n",
        "#2.3 Format dataset to one channel\n",
        "if K.image_data_format() == 'channels_first':\n",
        "    x_train = x_train.reshape(x_train.shape[0], 1, img_rows, img_cols)\n",
        "    x_test = x_test.reshape(x_test.shape[0], 1, img_rows, img_cols)\n",
        "    input_shape = (1, img_rows, img_cols)\n",
        "else:\n",
        "    x_train = x_train.reshape(x_train.shape[0], img_rows, img_cols, 1)\n",
        "    x_test = x_test.reshape(x_test.shape[0], img_rows, img_cols, 1)\n",
        "    input_shape = (img_rows, img_cols, 1)\n",
        "\n",
        "#2.4 Interger to float data type    \n",
        "x_train = x_train.astype('float32')\n",
        "x_test = x_test.astype('float32')\n",
        "x_train /= 255\n",
        "x_test /= 255\n",
        "\n",
        "#2.5 One-hot categorizing\n",
        "y_train = keras.utils.to_categorical(y_train,num_classes)\n",
        "y_test = keras.utils.to_categorical(y_test,num_classes)\n",
        "\n",
        "print('x_train shape:', x_train.shape)\n",
        "print(x_train.shape[0], 'train samples')\n",
        "print(x_test.shape[0], 'test samples')"
      ],
      "execution_count": null,
      "outputs": [
        {
          "output_type": "stream",
          "text": [
            "x_train shape: (60000, 28, 28, 1)\n",
            "60000 train samples\n",
            "10000 test samples\n"
          ],
          "name": "stdout"
        }
      ]
    },
    {
      "cell_type": "markdown",
      "metadata": {
        "id": "9gemNNjz63uB",
        "colab_type": "text"
      },
      "source": [
        "## **Plot Loss Curve**"
      ]
    },
    {
      "cell_type": "code",
      "metadata": {
        "id": "e5dMSqEZ1DIZ",
        "colab_type": "code",
        "colab": {}
      },
      "source": [
        "#Define Plotting function to visualize test loss and accuracy curves\n",
        "def plot_loss_curve():\n",
        "  plt.subplot(211)\n",
        "  plt.title('Categorical-crossentropy', pad=-40)\n",
        "  plt.plot(history.history['loss'], label='train')\n",
        "  plt.plot(history.history['val_loss'], label='test')\n",
        "  plt.legend()\n",
        "  \n",
        "\n",
        "  # plot accuracy learning curves\n",
        "  plt.subplot(212)\n",
        "  plt.title('Accuracy', pad=-40)\n",
        "  plt.plot(history.history['accuracy'], label='train')\n",
        "  plt.plot(history.history['val_accuracy'], label='test')\n",
        "  plt.legend()\n",
        "  \n",
        " "
      ],
      "execution_count": null,
      "outputs": []
    },
    {
      "cell_type": "markdown",
      "metadata": {
        "id": "x755trOwI8al",
        "colab_type": "text"
      },
      "source": [
        "## 3. Baseline Model"
      ]
    },
    {
      "cell_type": "markdown",
      "metadata": {
        "id": "O-XR0aw_ZiNs",
        "colab_type": "text"
      },
      "source": [
        "Baseline Model topology;\n",
        "\n",
        "*   2 Conv2D Layers + 1 DNN(128 nodes)\n",
        "*   3x3 kernel filter\n",
        "*   ReLU activation function\n",
        "*   MaxPooling2D - downsample using a 2x2 matrix\n",
        "*   2 Dropout layers - regularization layers\n",
        "*   Cross-entropy loss function with softmax classification at final layer\n",
        "*   Adadelta optimizer - SGD used to increase speed of computing SGD and avoid manually selecting learning rate\n",
        "\n",
        "\n"
      ]
    },
    {
      "cell_type": "code",
      "metadata": {
        "id": "PJJumr4NMNYs",
        "colab_type": "code",
        "colab": {
          "base_uri": "https://localhost:8080/",
          "height": 1000
        },
        "outputId": "4b4fbfab-686d-448b-9f30-8b5f5c421e0b"
      },
      "source": [
        "#3.1 Define baseline model (extract from keras)\n",
        "model = Sequential()\n",
        "\n",
        "#Input layer Conv2D + 32-64filter(3,3) + relu + maxpooling + dropout\n",
        "model.add(Conv2D(32, kernel_size=(3, 3),activation='relu',input_shape=input_shape))\n",
        "model.add(Conv2D(64, (3, 3), activation='relu'))\n",
        "model.add(MaxPooling2D(pool_size=(2, 2)))\n",
        "model.add(Dropout(0.25))\n",
        "\n",
        "#Flatten layers to 1D and fit into Dense Neural Network\n",
        "model.add(Flatten())\n",
        "model.add(Dense(128, activation='relu'))\n",
        "model.add(Dropout(0.5))\n",
        "\n",
        "#Final output with softmax activation function\n",
        "model.add(Dense(num_classes, activation='softmax'))\n",
        "\n",
        "#3.2 Compile model with \n",
        "model.compile(loss=keras.losses.categorical_crossentropy,optimizer=keras.optimizers.Adadelta(),\n",
        "              metrics=['accuracy'])\n",
        "\n",
        "#3.3 Train model\n",
        "history = model.fit(x_train, y_train,batch_size=batch_size,epochs=epochs,\n",
        "          verbose=1,validation_data=(x_test, y_test))\n",
        "\n",
        "#3.4 Evaluate model\n",
        "score = model.evaluate(x_test, y_test, verbose=0)\n",
        "print('Test loss:', score[0])\n",
        "print('Test accuracy:', score[1])\n",
        "\n",
        "#Plot loss curve\n",
        "plot_loss_curve()"
      ],
      "execution_count": null,
      "outputs": [
        {
          "output_type": "stream",
          "text": [
            "Train on 60000 samples, validate on 10000 samples\n",
            "Epoch 1/50\n",
            "60000/60000 [==============================] - 15s 249us/step - loss: 0.1847 - accuracy: 0.9434 - val_loss: 0.0472 - val_accuracy: 0.9840\n",
            "Epoch 2/50\n",
            "60000/60000 [==============================] - 9s 145us/step - loss: 0.0749 - accuracy: 0.9776 - val_loss: 0.0359 - val_accuracy: 0.9882\n",
            "Epoch 3/50\n",
            "60000/60000 [==============================] - 9s 145us/step - loss: 0.0592 - accuracy: 0.9828 - val_loss: 0.0364 - val_accuracy: 0.9882\n",
            "Epoch 4/50\n",
            "60000/60000 [==============================] - 9s 143us/step - loss: 0.0529 - accuracy: 0.9847 - val_loss: 0.0309 - val_accuracy: 0.9896\n",
            "Epoch 5/50\n",
            "60000/60000 [==============================] - 9s 143us/step - loss: 0.0496 - accuracy: 0.9862 - val_loss: 0.0328 - val_accuracy: 0.9894\n",
            "Epoch 6/50\n",
            "60000/60000 [==============================] - 9s 143us/step - loss: 0.0481 - accuracy: 0.9858 - val_loss: 0.0325 - val_accuracy: 0.9901\n",
            "Epoch 7/50\n",
            "60000/60000 [==============================] - 9s 144us/step - loss: 0.0461 - accuracy: 0.9868 - val_loss: 0.0304 - val_accuracy: 0.9902\n",
            "Epoch 8/50\n",
            "60000/60000 [==============================] - 9s 144us/step - loss: 0.0455 - accuracy: 0.9869 - val_loss: 0.0295 - val_accuracy: 0.9911\n",
            "Epoch 9/50\n",
            "60000/60000 [==============================] - 9s 144us/step - loss: 0.0415 - accuracy: 0.9875 - val_loss: 0.0317 - val_accuracy: 0.9907\n",
            "Epoch 10/50\n",
            "60000/60000 [==============================] - 9s 143us/step - loss: 0.0415 - accuracy: 0.9880 - val_loss: 0.0335 - val_accuracy: 0.9905\n",
            "Epoch 11/50\n",
            "60000/60000 [==============================] - 9s 142us/step - loss: 0.0402 - accuracy: 0.9887 - val_loss: 0.0328 - val_accuracy: 0.9892\n",
            "Epoch 12/50\n",
            "60000/60000 [==============================] - 9s 142us/step - loss: 0.0375 - accuracy: 0.9886 - val_loss: 0.0296 - val_accuracy: 0.9915\n",
            "Epoch 13/50\n",
            "60000/60000 [==============================] - 9s 148us/step - loss: 0.0383 - accuracy: 0.9896 - val_loss: 0.0322 - val_accuracy: 0.9917\n",
            "Epoch 14/50\n",
            "60000/60000 [==============================] - 10s 158us/step - loss: 0.0367 - accuracy: 0.9891 - val_loss: 0.0350 - val_accuracy: 0.9906\n",
            "Epoch 15/50\n",
            "60000/60000 [==============================] - 9s 145us/step - loss: 0.0360 - accuracy: 0.9898 - val_loss: 0.0322 - val_accuracy: 0.9915\n",
            "Epoch 16/50\n",
            "60000/60000 [==============================] - 8s 142us/step - loss: 0.0368 - accuracy: 0.9896 - val_loss: 0.0326 - val_accuracy: 0.9906\n",
            "Epoch 17/50\n",
            "60000/60000 [==============================] - 9s 143us/step - loss: 0.0360 - accuracy: 0.9902 - val_loss: 0.0318 - val_accuracy: 0.9914\n",
            "Epoch 18/50\n",
            "60000/60000 [==============================] - 9s 144us/step - loss: 0.0344 - accuracy: 0.9898 - val_loss: 0.0373 - val_accuracy: 0.9894\n",
            "Epoch 19/50\n",
            "60000/60000 [==============================] - 9s 142us/step - loss: 0.0354 - accuracy: 0.9904 - val_loss: 0.0319 - val_accuracy: 0.9899\n",
            "Epoch 20/50\n",
            "60000/60000 [==============================] - 9s 142us/step - loss: 0.0339 - accuracy: 0.9905 - val_loss: 0.0294 - val_accuracy: 0.9911\n",
            "Epoch 21/50\n",
            "60000/60000 [==============================] - 9s 142us/step - loss: 0.0345 - accuracy: 0.9908 - val_loss: 0.0452 - val_accuracy: 0.9895\n",
            "Epoch 22/50\n",
            "60000/60000 [==============================] - 9s 143us/step - loss: 0.0318 - accuracy: 0.9905 - val_loss: 0.0336 - val_accuracy: 0.9900\n",
            "Epoch 23/50\n",
            "60000/60000 [==============================] - 9s 142us/step - loss: 0.0319 - accuracy: 0.9911 - val_loss: 0.0357 - val_accuracy: 0.9914\n",
            "Epoch 24/50\n",
            "60000/60000 [==============================] - 9s 142us/step - loss: 0.0320 - accuracy: 0.9912 - val_loss: 0.0331 - val_accuracy: 0.9910\n",
            "Epoch 25/50\n",
            "60000/60000 [==============================] - 9s 143us/step - loss: 0.0332 - accuracy: 0.9908 - val_loss: 0.0347 - val_accuracy: 0.9915\n",
            "Epoch 26/50\n",
            "60000/60000 [==============================] - 9s 142us/step - loss: 0.0297 - accuracy: 0.9920 - val_loss: 0.0344 - val_accuracy: 0.9911\n",
            "Epoch 27/50\n",
            "60000/60000 [==============================] - 9s 144us/step - loss: 0.0310 - accuracy: 0.9915 - val_loss: 0.0361 - val_accuracy: 0.9910\n",
            "Epoch 28/50\n",
            "60000/60000 [==============================] - 9s 144us/step - loss: 0.0319 - accuracy: 0.9912 - val_loss: 0.0375 - val_accuracy: 0.9911\n",
            "Epoch 29/50\n",
            "60000/60000 [==============================] - 9s 143us/step - loss: 0.0301 - accuracy: 0.9919 - val_loss: 0.0400 - val_accuracy: 0.9900\n",
            "Epoch 30/50\n",
            "60000/60000 [==============================] - 9s 143us/step - loss: 0.0288 - accuracy: 0.9917 - val_loss: 0.0346 - val_accuracy: 0.9907\n",
            "Epoch 31/50\n",
            "60000/60000 [==============================] - 9s 142us/step - loss: 0.0283 - accuracy: 0.9920 - val_loss: 0.0337 - val_accuracy: 0.9913\n",
            "Epoch 32/50\n",
            "60000/60000 [==============================] - 9s 143us/step - loss: 0.0288 - accuracy: 0.9918 - val_loss: 0.0394 - val_accuracy: 0.9912\n",
            "Epoch 33/50\n",
            "60000/60000 [==============================] - 9s 142us/step - loss: 0.0286 - accuracy: 0.9922 - val_loss: 0.0373 - val_accuracy: 0.9908\n",
            "Epoch 34/50\n",
            "60000/60000 [==============================] - 9s 142us/step - loss: 0.0288 - accuracy: 0.9925 - val_loss: 0.0359 - val_accuracy: 0.9913\n",
            "Epoch 35/50\n",
            "60000/60000 [==============================] - 9s 143us/step - loss: 0.0275 - accuracy: 0.9927 - val_loss: 0.0346 - val_accuracy: 0.9896\n",
            "Epoch 36/50\n",
            "60000/60000 [==============================] - 9s 144us/step - loss: 0.0283 - accuracy: 0.9925 - val_loss: 0.0375 - val_accuracy: 0.9898\n",
            "Epoch 37/50\n",
            "60000/60000 [==============================] - 9s 144us/step - loss: 0.0276 - accuracy: 0.9923 - val_loss: 0.0367 - val_accuracy: 0.9923\n",
            "Epoch 38/50\n",
            "60000/60000 [==============================] - 9s 142us/step - loss: 0.0267 - accuracy: 0.9924 - val_loss: 0.0333 - val_accuracy: 0.9918\n",
            "Epoch 39/50\n",
            "60000/60000 [==============================] - 9s 142us/step - loss: 0.0275 - accuracy: 0.9919 - val_loss: 0.0380 - val_accuracy: 0.9899\n",
            "Epoch 40/50\n",
            "60000/60000 [==============================] - 9s 142us/step - loss: 0.0255 - accuracy: 0.9925 - val_loss: 0.0351 - val_accuracy: 0.9908\n",
            "Epoch 41/50\n",
            "60000/60000 [==============================] - 9s 142us/step - loss: 0.0250 - accuracy: 0.9933 - val_loss: 0.0377 - val_accuracy: 0.9921\n",
            "Epoch 42/50\n",
            "60000/60000 [==============================] - 9s 142us/step - loss: 0.0264 - accuracy: 0.9931 - val_loss: 0.0427 - val_accuracy: 0.9904\n",
            "Epoch 43/50\n",
            "60000/60000 [==============================] - 9s 142us/step - loss: 0.0253 - accuracy: 0.9935 - val_loss: 0.0390 - val_accuracy: 0.9903\n",
            "Epoch 44/50\n",
            "60000/60000 [==============================] - 9s 143us/step - loss: 0.0250 - accuracy: 0.9930 - val_loss: 0.0371 - val_accuracy: 0.9922\n",
            "Epoch 45/50\n",
            "60000/60000 [==============================] - 9s 142us/step - loss: 0.0248 - accuracy: 0.9931 - val_loss: 0.0404 - val_accuracy: 0.9908\n",
            "Epoch 46/50\n",
            "60000/60000 [==============================] - 9s 144us/step - loss: 0.0248 - accuracy: 0.9930 - val_loss: 0.0369 - val_accuracy: 0.9908\n",
            "Epoch 47/50\n",
            "60000/60000 [==============================] - 8s 141us/step - loss: 0.0263 - accuracy: 0.9928 - val_loss: 0.0367 - val_accuracy: 0.9918\n",
            "Epoch 48/50\n",
            "60000/60000 [==============================] - 9s 142us/step - loss: 0.0247 - accuracy: 0.9934 - val_loss: 0.0363 - val_accuracy: 0.9916\n",
            "Epoch 49/50\n",
            "60000/60000 [==============================] - 9s 144us/step - loss: 0.0240 - accuracy: 0.9935 - val_loss: 0.0451 - val_accuracy: 0.9900\n",
            "Epoch 50/50\n",
            "60000/60000 [==============================] - 10s 162us/step - loss: 0.0261 - accuracy: 0.9934 - val_loss: 0.0408 - val_accuracy: 0.9910\n",
            "Test loss: 0.040782134174048225\n",
            "Test accuracy: 0.9909999966621399\n"
          ],
          "name": "stdout"
        },
        {
          "output_type": "display_data",
          "data": {
            "image/png": "[encoded data removed]",
            "text/plain": [
              "<Figure size 432x288 with 2 Axes>"
            ]
          },
          "metadata": {
            "tags": [],
            "needs_background": "light"
          }
        }
      ]
    },
    {
      "cell_type": "markdown",
      "metadata": {
        "id": "PNfyL3IqI_2j",
        "colab_type": "text"
      },
      "source": [
        "## 4. My Model"
      ]
    },
    {
      "cell_type": "markdown",
      "metadata": {
        "id": "g11ANcKWYfdt",
        "colab_type": "text"
      },
      "source": [
        "My model had the following topology:\n",
        "\n",
        "* 4 Conv2D Layers + 1 DNN(512 nodes)  \n",
        "* 3x3 kernel filters\n",
        "* ReLU activation function  \n",
        "* MaxPooling2D - downsample using a 2x2 matrix \n",
        "* 2 Dropout layers - regularization layers\n",
        "* Cross-entropy loss function with softmax classification at final layer\n",
        "*Adadelta optimizer - used to increase speed of computing SGD and avoid manually selecting learning rate\n",
        "\n"
      ]
    },
    {
      "cell_type": "code",
      "metadata": {
        "id": "4yYdHp-xpcsE",
        "colab_type": "code",
        "colab": {
          "base_uri": "https://localhost:8080/",
          "height": 448
        },
        "outputId": "adca0409-c5f9-4cba-8860-83863c91d82b"
      },
      "source": [
        "#4.1 Define my model\n",
        "#CNN->relu->MaxPool2d->Drop->DNN->Flatten->Dropout->Output\n",
        "model = Sequential()\n",
        "\n",
        "#Input layer Conv2D + 32->64filter(3,3) + relu + maxpooling + dropout\n",
        "model.add(Conv2D(32, kernel_size=(3, 3),activation='relu',input_shape=input_shape))\n",
        "model.add(Conv2D(32, (3, 3), activation='relu'))\n",
        "model.add(MaxPooling2D(pool_size=(2, 2)))\n",
        "model.add(Dropout(0.2))\n",
        "\n",
        "#Add layer\n",
        "model.add(Conv2D(64, (3, 3), activation='relu'))\n",
        "model.add(MaxPooling2D(pool_size=(2, 2)))\n",
        "model.add(Dropout(0.2))\n",
        "\n",
        "#Add layer\n",
        "model.add(Conv2D(64, (3, 3), activation='relu'))\n",
        "model.add(MaxPooling2D(pool_size=(2, 2)))\n",
        "model.add(Dropout(0.2))\n",
        "\n",
        "#Flatten layer + DNN\n",
        "model.add(Flatten())\n",
        "model.add(Dense(512, activation='relu'))\n",
        "model.add(Dropout(0.5))\n",
        "\n",
        "#Final output with softmax activation function\n",
        "model.add(Dense(num_classes, activation='softmax'))\n",
        "\n",
        "#3.2 Compile model with adadelta optimizer\n",
        "model.compile(loss=keras.losses.categorical_crossentropy,optimizer=keras.optimizers.Adadelta(),\n",
        "              metrics=['accuracy'])\n",
        "\n",
        "#3.3 Learning rate schedule used to make opt converge closest to global minimum of the loss\n",
        "#    of loss function\n",
        "rlrp = ReduceLROnPlateau(monitor='val_loss', factor=0.1, patience=5, min_delta=1E-7, verbose=1)\n",
        "\n",
        "#3.4 Train model\n",
        "history = model.fit(x_train, y_train, batch_size=batch_size, epochs=epochs,\n",
        "          verbose=0,validation_data=(x_test, y_test),callbacks=[rlrp])\n",
        "\n",
        "#3.5 Evaluate model\n",
        "score = model.evaluate(x_test, y_test, verbose=0)\n",
        "\n",
        "print('Test accuracy:', score[1])\n",
        "print('Test loss:', score[0])\n",
        "\n",
        "#Plot loss curve\n",
        "plot_loss_curve()"
      ],
      "execution_count": null,
      "outputs": [
        {
          "output_type": "stream",
          "text": [
            "\n",
            "Epoch 00011: ReduceLROnPlateau reducing learning rate to 0.1.\n",
            "\n",
            "Epoch 00019: ReduceLROnPlateau reducing learning rate to 0.010000000149011612.\n",
            "\n",
            "Epoch 00024: ReduceLROnPlateau reducing learning rate to 0.0009999999776482583.\n",
            "\n",
            "Epoch 00029: ReduceLROnPlateau reducing learning rate to 9.999999310821295e-05.\n",
            "Test accuracy: 0.9943000078201294\n",
            "Test loss: 0.021973866535974957\n"
          ],
          "name": "stdout"
        },
        {
          "output_type": "display_data",
          "data": {
            "image/png": "[encoded data removed]",
            "text/plain": [
              "<Figure size 432x288 with 2 Axes>"
            ]
          },
          "metadata": {
            "tags": [],
            "needs_background": "light"
          }
        }
      ]
    },
    {
      "cell_type": "markdown",
      "metadata": {
        "id": "2Adr-UQ3JQ1h",
        "colab_type": "text"
      },
      "source": [
        "## 5**. Summary**\n",
        "With the above model topology I was able to achieve test accuracy of 99.4% after 32 epochs.\n",
        "\n",
        "Steps taken to improve my model where as follows;\n",
        "1. Increase Nodes and Layers;\n",
        ">A model with more layers and more hidden units per layer has higher representational capacity - it is capable of representing more complicated functions.\n",
        "— Page 428, Deep Learning, 2016.\n",
        "                        \n",
        "2. Improve learning rate\n",
        ">The amount that each model parameter is updated per iteration of the learning algorithm (Chapter 5).\n",
        "The training process must be repeated many times, making it difficult to calculate exactly how much to change each parameter model. By using the learning rate schedule I was able to control how much to update model weights, and in turn control how fast the model learns on the training dataset.\n",
        "\n",
        "To further improve my model I tried to control the batch size.\n",
        ">3. The batch size control the precision of the estimate of the error gradient, that in turn \n",
        "Batch size is typically chosen between 1 and a few hundreds, e.g. [batch size] = 32 is a good default value\n",
        "— Practical recommendations for gradient-based training of deep architectures, 2012.\n",
        "\n",
        "A summary of results for baseline model and my model is shown below run over 32 epochs;\n",
        "\n",
        "1.   Baseline model = 99.17%\n",
        "2.   My Model       = 99.3%\n",
        "3.   My Model + Dropout + lr_schedule = 99.40%\n",
        " \n",
        "\n"
      ]
    }
  ]
}